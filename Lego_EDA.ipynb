{
 "cells": [
  {
   "cell_type": "markdown",
   "metadata": {
    "dc": {
     "key": "1d0b086e6c"
    },
    "deletable": false,
    "editable": false,
    "run_control": {
     "frozen": true
    },
    "tags": [
     "context"
    ]
   },
   "source": [
    "## 1. Introduction\n",
    "<p>Everyone loves Lego (unless you ever stepped on one). Did you know by the way that \"Lego\" was derived from the Danish phrase leg godt, which means \"play well\"? Unless you speak Danish, probably not. </p>\n",
    "<p>In this project, we will analyze a fascinating dataset on every single lego block that has ever been built!</p>\n",
    "<p><img src=\"https://s3.amazonaws.com/assets.datacamp.com/production/project_10/datasets/lego-bricks.jpeg\" alt=\"lego\"></p>"
   ]
  },
  {
   "cell_type": "code",
   "execution_count": 1,
   "metadata": {
    "dc": {
     "key": "1d0b086e6c"
    },
    "tags": [
     "sample_code"
    ]
   },
   "outputs": [],
   "source": [
    "# Nothing to do here"
   ]
  },
  {
   "cell_type": "markdown",
   "metadata": {
    "dc": {
     "key": "044b2cef41"
    },
    "deletable": false,
    "editable": false,
    "run_control": {
     "frozen": true
    },
    "tags": [
     "context"
    ]
   },
   "source": [
    "## 2. Reading Data\n",
    "<p>A comprehensive database of lego blocks is provided by <a href=\"https://rebrickable.com/downloads/\">Rebrickable</a>. The data is available as csv files and the schema is shown below.</p>\n",
    "<p><img src=\"https://s3.amazonaws.com/assets.datacamp.com/production/project_10/datasets/downloads_schema.png\" alt=\"schema\"></p>\n",
    "<p>Let us start by reading in the colors data to get a sense of the diversity of lego sets!</p>"
   ]
  },
  {
   "cell_type": "code",
   "execution_count": 2,
   "metadata": {
    "dc": {
     "key": "044b2cef41"
    },
    "tags": [
     "sample_code"
    ]
   },
   "outputs": [],
   "source": [
    "# Import modules\n",
    "import pandas as pd\n",
    "\n",
    "# Read colors data\n",
    "colors = pd.read_csv('datasets/colors.csv')\n",
    "\n",
    "# Print the first few rows"
   ]
  },
  {
   "cell_type": "code",
   "execution_count": 3,
   "metadata": {},
   "outputs": [
    {
     "name": "stdout",
     "output_type": "stream",
     "text": [
      "   id            name     rgb is_trans\n",
      "0  -1         Unknown  0033B2        f\n",
      "1   0           Black  05131D        f\n",
      "2   1            Blue  0055BF        f\n",
      "3   2           Green  237841        f\n",
      "4   3  Dark Turquoise  008F9B        f\n"
     ]
    }
   ],
   "source": [
    "print(colors.head())"
   ]
  },
  {
   "cell_type": "markdown",
   "metadata": {
    "dc": {
     "key": "15c1e2ce38"
    },
    "deletable": false,
    "editable": false,
    "run_control": {
     "frozen": true
    },
    "tags": [
     "context"
    ]
   },
   "source": [
    "## 3. Exploring Colors\n",
    "<p>Now that we have read the <code>colors</code> data, we can start exploring it! Let us start by understanding the number of colors available.</p>"
   ]
  },
  {
   "cell_type": "code",
   "execution_count": 4,
   "metadata": {
    "dc": {
     "key": "15c1e2ce38"
    },
    "tags": [
     "sample_code"
    ]
   },
   "outputs": [
    {
     "name": "stdout",
     "output_type": "stream",
     "text": [
      "Number of distinct colors:  135\n"
     ]
    }
   ],
   "source": [
    "# How many distinct colors are available?\n",
    "# -- YOUR CODE FOR TASK 3 --\n",
    "grouped = colors.groupby('name')['id'].sum()\n",
    "print(\"Number of distinct colors: \", grouped.nunique())"
   ]
  },
  {
   "cell_type": "markdown",
   "metadata": {
    "dc": {
     "key": "a5723ae5c2"
    },
    "deletable": false,
    "editable": false,
    "run_control": {
     "frozen": true
    },
    "tags": [
     "context"
    ]
   },
   "source": [
    "## 4. Transparent Colors in Lego Sets\n",
    "<p>The <code>colors</code> data has a column named <code>is_trans</code> that indicates whether a color is transparent or not. It would be interesting to explore the distribution of transparent vs. non-transparent colors.</p>"
   ]
  },
  {
   "cell_type": "code",
   "execution_count": 5,
   "metadata": {
    "dc": {
     "key": "a5723ae5c2"
    },
    "tags": [
     "sample_code"
    ]
   },
   "outputs": [
    {
     "name": "stdout",
     "output_type": "stream",
     "text": [
      "is_trans\n",
      "f    107\n",
      "t     28\n",
      "Name: name, dtype: int64\n"
     ]
    }
   ],
   "source": [
    "# colors_summary: Distribution of colors based on transparency\n",
    "# -- YOUR CODE FOR TASK 4 --\n",
    "trans = colors.groupby('is_trans')['name'].count()\n",
    "print(trans)"
   ]
  },
  {
   "cell_type": "markdown",
   "metadata": {
    "dc": {
     "key": "c9d0e58653"
    },
    "deletable": false,
    "editable": false,
    "run_control": {
     "frozen": true
    },
    "tags": [
     "context"
    ]
   },
   "source": [
    "## 5. Explore Lego Sets\n",
    "<p>Another interesting dataset available in this database is the <code>sets</code> data. It contains a comprehensive list of sets over the years and the number of parts that each of these sets contained. </p>\n",
    "<p><img src=\"https://imgur.com/1k4PoXs.png\" alt=\"sets_data\"></p>\n",
    "<p>Let us use this data to explore how the average number of parts in Lego sets has varied over the years.</p>"
   ]
  },
  {
   "cell_type": "code",
   "execution_count": 6,
   "metadata": {
    "dc": {
     "key": "c9d0e58653"
    },
    "tags": [
     "sample_code"
    ]
   },
   "outputs": [
    {
     "name": "stdout",
     "output_type": "stream",
     "text": [
      "year\n",
      "1950     10.142857\n",
      "1953     16.500000\n",
      "1954     12.357143\n",
      "1955     36.857143\n",
      "1956     18.500000\n",
      "1957     42.619048\n",
      "1958     44.452381\n",
      "1959     16.250000\n",
      "1960    175.333333\n",
      "1961     70.588235\n",
      "1962     81.750000\n",
      "1963     33.333333\n",
      "1964     82.636364\n",
      "1965    107.100000\n",
      "1966     40.651685\n",
      "1967     98.666667\n",
      "1968    127.200000\n",
      "1969     64.594203\n",
      "1970     84.793103\n",
      "1971     67.022222\n",
      "1972    102.842105\n",
      "1973    103.367647\n",
      "1974    116.769231\n",
      "1975    155.225806\n",
      "1976    153.029412\n",
      "1977     91.500000\n",
      "1978    146.616438\n",
      "1979    105.414634\n",
      "1980    126.636364\n",
      "1981     97.835443\n",
      "           ...    \n",
      "1988    144.250000\n",
      "1989    102.061404\n",
      "1990    202.035294\n",
      "1991    166.424528\n",
      "1992    119.617391\n",
      "1993    148.432432\n",
      "1994    127.640625\n",
      "1995    179.039062\n",
      "1996    201.770833\n",
      "1997    129.221649\n",
      "1998    141.126154\n",
      "1999    105.543333\n",
      "2000    104.376147\n",
      "2001    104.365782\n",
      "2002    115.700224\n",
      "2003    159.681928\n",
      "2004    138.862534\n",
      "2005    198.745455\n",
      "2006    246.904594\n",
      "2007    229.025078\n",
      "2008    231.644699\n",
      "2009    196.898263\n",
      "2010    210.646396\n",
      "2011    160.452191\n",
      "2012    149.808130\n",
      "2013    181.359191\n",
      "2014    169.320280\n",
      "2015    200.223881\n",
      "2016    248.945813\n",
      "2017    300.121277\n",
      "Name: num_parts, Length: 66, dtype: float64\n"
     ]
    },
    {
     "data": {
      "text/plain": [
       "[<matplotlib.lines.Line2D at 0x179451abfd0>]"
      ]
     },
     "execution_count": 6,
     "metadata": {},
     "output_type": "execute_result"
    },
    {
     "data": {
      "image/png": "[encoded data removed]",
      "text/plain": [
       "<matplotlib.figure.Figure at 0x179444b6b38>"
      ]
     },
     "metadata": {},
     "output_type": "display_data"
    }
   ],
   "source": [
    "%matplotlib inline\n",
    "import matplotlib.pyplot as plt\n",
    "# Read sets data as `sets`\n",
    "sets = pd.read_csv('datasets/sets.csv')\n",
    "\n",
    "# Create a summary of average number of parts by year: `parts_by_year`\n",
    "parts_by_year = sets.groupby('year')['num_parts'].mean()\n",
    "print(parts_by_year)\n",
    "\n",
    "# Plot trends in average number of parts by year\n",
    "plt.plot(parts_by_year)"
   ]
  },
  {
   "cell_type": "markdown",
   "metadata": {
    "dc": {
     "key": "266a3f390c"
    },
    "deletable": false,
    "editable": false,
    "run_control": {
     "frozen": true
    },
    "tags": [
     "context"
    ]
   },
   "source": [
    "## 6. Lego Themes Over Years\n",
    "<p>Lego blocks ship under multiple <a href=\"https://shop.lego.com/en-US/Themes\">themes</a>. Let us try to get a sense of how the number of themes shipped has varied over the years.</p>"
   ]
  },
  {
   "cell_type": "code",
   "execution_count": 7,
   "metadata": {
    "dc": {
     "key": "266a3f390c"
    },
    "tags": [
     "sample_code"
    ]
   },
   "outputs": [
    {
     "name": "stdout",
     "output_type": "stream",
     "text": [
      "year\n",
      "1950      7\n",
      "1953      4\n",
      "1954     14\n",
      "1955     28\n",
      "1956     12\n",
      "1957     21\n",
      "1958     42\n",
      "1959      4\n",
      "1960      3\n",
      "1961     17\n",
      "1962     40\n",
      "1963     18\n",
      "1964     11\n",
      "1965     10\n",
      "1966     89\n",
      "1967     21\n",
      "1968     25\n",
      "1969     69\n",
      "1970     29\n",
      "1971     45\n",
      "1972     38\n",
      "1973     68\n",
      "1974     39\n",
      "1975     31\n",
      "1976     68\n",
      "1977     92\n",
      "1978     73\n",
      "1979     82\n",
      "1980     88\n",
      "1981     79\n",
      "       ... \n",
      "1988     68\n",
      "1989    114\n",
      "1990     85\n",
      "1991    106\n",
      "1992    115\n",
      "1993    111\n",
      "1994    128\n",
      "1995    128\n",
      "1996    144\n",
      "1997    194\n",
      "1998    325\n",
      "1999    300\n",
      "2000    327\n",
      "2001    339\n",
      "2002    447\n",
      "2003    415\n",
      "2004    371\n",
      "2005    330\n",
      "2006    283\n",
      "2007    319\n",
      "2008    349\n",
      "2009    403\n",
      "2010    444\n",
      "2011    502\n",
      "2012    615\n",
      "2013    593\n",
      "2014    715\n",
      "2015    670\n",
      "2016    609\n",
      "2017    470\n",
      "Name: theme_id, Length: 66, dtype: int64\n"
     ]
    },
    {
     "data": {
      "text/plain": [
       "[<matplotlib.lines.Line2D at 0x17945252a90>]"
      ]
     },
     "execution_count": 7,
     "metadata": {},
     "output_type": "execute_result"
    },
    {
     "data": {
      "image/png": "[encoded data removed]",
      "text/plain": [
       "<matplotlib.figure.Figure at 0x1794519a4a8>"
      ]
     },
     "metadata": {},
     "output_type": "display_data"
    }
   ],
   "source": [
    "# themes_by_year: Number of themes shipped by year\n",
    "# -- YOUR CODE HERE --\n",
    "themes_by_year = sets.groupby('year')['theme_id'].count()\n",
    "print(themes_by_year)\n",
    "plt.plot(themes_by_year)"
   ]
  },
  {
   "cell_type": "markdown",
   "metadata": {
    "dc": {
     "key": "a293e5076e"
    },
    "deletable": false,
    "editable": false,
    "run_control": {
     "frozen": true
    },
    "tags": [
     "context"
    ]
   },
   "source": [
    "## 7. Wrapping It All Up!\n",
    "<p>Lego blocks offer an unlimited amount of fun across ages. We explored some interesting trends around colors, parts, and themes. </p>"
   ]
  },
  {
   "cell_type": "code",
   "execution_count": 8,
   "metadata": {
    "dc": {
     "key": "a293e5076e"
    },
    "tags": [
     "sample_code"
    ]
   },
   "outputs": [],
   "source": [
    "# Nothing to do here"
   ]
  }
 ],
 "metadata": {
  "kernelspec": {
   "display_name": "Python 3",
   "language": "python",
   "name": "python3"
  },
  "language_info": {
   "codemirror_mode": {
    "name": "ipython",
    "version": 3
   },
   "file_extension": ".py",
   "mimetype": "text/x-python",
   "name": "python",
   "nbconvert_exporter": "python",
   "pygments_lexer": "ipython3",
   "version": "3.6.4"
  }
 },
 "nbformat": 4,
 "nbformat_minor": 2
}
